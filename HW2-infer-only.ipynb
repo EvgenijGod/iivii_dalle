{
 "cells": [
  {
   "cell_type": "code",
   "execution_count": 1,
   "id": "1d2bdebd",
   "metadata": {},
   "outputs": [],
   "source": [
    "from dalle2_pytorch import Decoder"
   ]
  },
  {
   "cell_type": "code",
   "execution_count": 2,
   "id": "61ff665b",
   "metadata": {},
   "outputs": [],
   "source": [
    "from functools import partial, wraps\n",
    "from tqdm.auto import tqdm\n",
    "from contextlib import contextmanager\n",
    "from dalle2_pytorch.vqgan_vae import NullVQGanVAE, VQGanVAE\n",
    "\n",
    "def exists(val):\n",
    "    return val is not None\n",
    "\n",
    "def first(arr, d = None):\n",
    "    if len(arr) == 0:\n",
    "        return d\n",
    "    return arr[0]\n",
    "\n",
    "def maybe(fn):\n",
    "    @wraps(fn)\n",
    "    def inner(x, *args, **kwargs):\n",
    "        if not exists(x):\n",
    "            return x\n",
    "        return fn(x, *args, **kwargs)\n",
    "    return inner\n",
    "\n",
    "def default(val, d):\n",
    "    if exists(val):\n",
    "        return val\n",
    "    return d() if callable(d) else d\n",
    "\n",
    "def cast_tuple(val, length = None, validate = True):\n",
    "    if isinstance(val, list):\n",
    "        val = tuple(val)\n",
    "\n",
    "    out = val if isinstance(val, tuple) else ((val,) * default(length, 1))\n",
    "\n",
    "    if exists(length) and validate:\n",
    "        assert len(out) == length\n",
    "\n",
    "    return out\n",
    "\n",
    "@contextmanager\n",
    "def null_context(*args, **kwargs):\n",
    "    yield\n",
    "\n",
    "def eval_decorator(fn):\n",
    "    def inner(model, *args, **kwargs):\n",
    "        was_training = model.training\n",
    "        model.eval()\n",
    "        out = fn(model, *args, **kwargs)\n",
    "        model.train(was_training)\n",
    "        return out\n",
    "    return inner\n",
    "\n",
    "def resize_image_to(\n",
    "    image,\n",
    "    target_image_size,\n",
    "    clamp_range = None,\n",
    "    nearest = False,\n",
    "    **kwargs\n",
    "):\n",
    "    orig_image_size = image.shape[-1]\n",
    "\n",
    "    if orig_image_size == target_image_size:\n",
    "        return image\n",
    "\n",
    "    if not nearest:\n",
    "        scale_factors = target_image_size / orig_image_size\n",
    "        out = resize(image, scale_factors = scale_factors, **kwargs)\n",
    "    else:\n",
    "        out = F.interpolate(image, target_image_size, mode = 'nearest')\n",
    "\n",
    "    if exists(clamp_range):\n",
    "        out = out.clamp(*clamp_range)\n",
    "\n",
    "    return out"
   ]
  },
  {
   "cell_type": "code",
   "execution_count": 3,
   "id": "cc1a49e4",
   "metadata": {},
   "outputs": [],
   "source": [
    "def my_sample(\n",
    "    self,\n",
    "    source_image_small_64,\n",
    "    lowres_cond_img=None,\n",
    "    image = None,\n",
    "    image_embed = None,\n",
    "    text = None,\n",
    "    text_encodings = None,\n",
    "    batch_size = 1,\n",
    "    cond_scale = 1.,\n",
    "    start_at_unet_number = 1,\n",
    "    stop_at_unet_number = None,\n",
    "    distributed = False,\n",
    "    inpaint_image = None,\n",
    "    inpaint_mask = None,\n",
    "    inpaint_resample_times = 5,\n",
    "):\n",
    "    print(\"@@@ inside my_sample\")\n",
    "    assert self.unconditional or exists(image_embed), 'image embed must be present on sampling from decoder unless if trained unconditionally'\n",
    "\n",
    "    if not self.unconditional:\n",
    "        batch_size = image_embed.shape[0]\n",
    "\n",
    "    if exists(text) and not exists(text_encodings) and not self.unconditional:\n",
    "        assert exists(self.clip)\n",
    "        _, text_encodings = self.clip.embed_text(text)\n",
    "\n",
    "    assert not (self.condition_on_text_encodings and not exists(text_encodings)), 'text or text encodings must be passed into decoder if specified'\n",
    "    assert not (not self.condition_on_text_encodings and exists(text_encodings)), 'decoder specified not to be conditioned on text, yet it is presented'\n",
    "\n",
    "    assert not (exists(inpaint_image) ^ exists(inpaint_mask)), 'inpaint_image and inpaint_mask (boolean mask of [batch, height, width]) must be both given for inpainting'\n",
    "\n",
    "    img = None\n",
    "    if start_at_unet_number > 1:\n",
    "        # Then we are not generating the first image and one must have been passed in\n",
    "        assert exists(image), 'image must be passed in if starting at unet number > 1'\n",
    "        assert image.shape[0] == batch_size, 'image must have batch size of {} if starting at unet number > 1'.format(batch_size)\n",
    "        prev_unet_output_size = self.image_sizes[start_at_unet_number - 2]\n",
    "        img = resize_image_to(image, prev_unet_output_size, nearest = True)\n",
    "    is_cuda = next(self.parameters()).is_cuda\n",
    "    num_unets = self.num_unets\n",
    "    cond_scale = cast_tuple(cond_scale, num_unets)\n",
    "\n",
    "    for unet_number, unet, vae, channel, image_size, predict_x_start, learned_variance, noise_scheduler, lowres_cond, sample_timesteps, unet_cond_scale in tqdm(zip(range(1, num_unets + 1), self.unets, self.vaes, self.sample_channels, self.image_sizes, self.predict_x_start, self.learned_variance, self.noise_schedulers, self.lowres_conds, self.sample_timesteps, cond_scale)):\n",
    "        if unet_number < start_at_unet_number:\n",
    "            continue  # It's the easiest way to do it\n",
    "\n",
    "        context = self.one_unet_in_gpu(unet = unet) if is_cuda else null_context()\n",
    "\n",
    "        with context:\n",
    "            # prepare low resolution conditioning for upsamplers\n",
    "\n",
    "            #lowres_cond_img = lowres_noise_level = None\n",
    "            lowres_noise_level = None\n",
    "            shape = (batch_size, channel, image_size, image_size)\n",
    "\n",
    "#             if unet.lowres_cond:\n",
    "#                 lowres_cond_img = resize_image_to(img, target_image_size = image_size, clamp_range = self.input_image_range, nearest = True)\n",
    "\n",
    "#                 if lowres_cond.use_noise:\n",
    "#                     lowres_noise_level = torch.full((batch_size,), int(self.lowres_noise_sample_level * 1000), dtype = torch.long, device = self.device)\n",
    "#                     lowres_cond_img, _ = lowres_cond.noise_image(lowres_cond_img, lowres_noise_level)\n",
    "\n",
    "            # latent diffusion\n",
    "\n",
    "            is_latent_diffusion = isinstance(vae, VQGanVAE)\n",
    "            image_size = vae.get_encoded_fmap_size(image_size)\n",
    "            shape = (batch_size, vae.encoded_dim, image_size, image_size)\n",
    "\n",
    "            lowres_cond_img = maybe(vae.encode)(lowres_cond_img)\n",
    "\n",
    "            # denoising loop for image\n",
    "            \n",
    "            def prepare_args(unet_number, lowres_cond_img):\n",
    "                if unet_number == 1:\n",
    "                    return lowres_cond_img\n",
    "                elif unet_number == 2:\n",
    "                    lowres_cond_img_res = resize_image_to(\n",
    "                        source_image_small_64, \n",
    "                        target_image_size = image_size, \n",
    "                        clamp_range = self.input_image_range, \n",
    "                        nearest = True\n",
    "                    )\n",
    "                    return lowres_cond_img_res\n",
    "                else:\n",
    "                    raise ValueError()\n",
    "            \n",
    "            img = self.p_sample_loop(\n",
    "                unet,\n",
    "                shape,\n",
    "                image_embed = image_embed,\n",
    "                text_encodings = text_encodings,\n",
    "                cond_scale = unet_cond_scale,\n",
    "                predict_x_start = predict_x_start,\n",
    "                learned_variance = learned_variance,\n",
    "                clip_denoised = not is_latent_diffusion,\n",
    "                lowres_cond_img = prepare_args(unet_number, lowres_cond_img),\n",
    "                lowres_noise_level = lowres_noise_level,\n",
    "                is_latent_diffusion = is_latent_diffusion,\n",
    "                noise_scheduler = noise_scheduler,\n",
    "                # timesteps = sample_timesteps,\n",
    "                inpaint_image = inpaint_image,\n",
    "                inpaint_mask = inpaint_mask,\n",
    "                inpaint_resample_times = inpaint_resample_times\n",
    "            )\n",
    "\n",
    "            img = vae.decode(img)\n",
    "\n",
    "        if exists(stop_at_unet_number) and stop_at_unet_number == unet_number:\n",
    "            break\n",
    "\n",
    "    return img\n",
    "\n",
    "\n",
    "Decoder.sample = my_sample"
   ]
  },
  {
   "cell_type": "code",
   "execution_count": 4,
   "id": "6ec0b26f",
   "metadata": {},
   "outputs": [],
   "source": [
    "from dalle2_laion import ModelLoadConfig, DalleModelManager\n",
    "from dalle2_laion.scripts import InferenceScript\n",
    "from typing import List\n",
    "\n",
    "import torch\n",
    "\n",
    "class ExampleInference(InferenceScript):\n",
    "    def run(self, text: str, source_image_small_64):\n",
    "        \"\"\"\n",
    "        Takes a string and returns a single image.\n",
    "        \"\"\"\n",
    "        text = [text]\n",
    "        image_embedding_map = self._sample_prior(text)\n",
    "        image_embedding = image_embedding_map[0][0].unsqueeze(0)\n",
    "        image_map = self._sample_decoder(\n",
    "            source_image_small_64,\n",
    "            text=text, \n",
    "            image_embed=image_embedding, \n",
    "            \n",
    "        )\n",
    "        return image_map[0][0]\n",
    "\n",
    "    def _sample_decoder(\n",
    "        self,\n",
    "        source_image_small_64,*,\n",
    "        images = None, image_embed: List[torch.Tensor] = None,\n",
    "        text: List[str] = None, text_encoding: List[torch.Tensor] = None,\n",
    "        inpaint_images = None, inpaint_image_masks: List[torch.Tensor] = None,\n",
    "        cond_scale: float = None, sample_count: int = 1, batch_size: int = 10,\n",
    "    ):\n",
    "        \"\"\"\n",
    "        Samples images from the decoder\n",
    "        Capable of doing basic generation with a list of image embeddings (possibly also conditioned with a list of strings or text embeddings)\n",
    "        Also capable of two more advanced generation techniques:\n",
    "        1. Variation generation: If images are passed in the image embeddings will be generated based on those.\n",
    "        2. In-painting generation: If images and masks are passed in, the images will be in-painted using the masks and the image embeddings.\n",
    "        \"\"\"\n",
    "        if cond_scale is None:\n",
    "            # Then we use the default scale\n",
    "            load_config = self.model_manager.model_config.decoder\n",
    "            unet_configs = load_config.unet_sources\n",
    "            cond_scale = [1.0] * load_config.final_unet_number\n",
    "            for unet_config in unet_configs:\n",
    "                if unet_config.default_cond_scale is not None:\n",
    "                    for unet_number, new_cond_scale in zip(unet_config.unet_numbers, unet_config.default_cond_scale):\n",
    "                        cond_scale[unet_number - 1] = new_cond_scale\n",
    "        self.print(f\"Sampling decoder with cond_scale: {cond_scale}\")\n",
    "            \n",
    "        decoder_info = self.model_manager.decoder_info\n",
    "        assert decoder_info is not None, \"No decoder loaded.\"\n",
    "        data_requirements = decoder_info.data_requirements\n",
    "        min_image_size = min(min(image.size) for image in images) if images is not None else None\n",
    "        is_valid, errors = data_requirements.is_valid(\n",
    "            has_image_emb=image_embed is not None, has_image=images is not None,\n",
    "            has_text_encoding=text_encoding is not None, has_text=text is not None,\n",
    "            image_size=min_image_size\n",
    "        )\n",
    "        assert is_valid, f\"The data requirements for the decoder are not satisfied: {errors}\"\n",
    "\n",
    "        # Prepare the data\n",
    "        image_embeddings = []  # The null case where nothing is done. This should never be used in actuality, but for stylistic consistency I'm keeping it.\n",
    "        if data_requirements.image_embedding:\n",
    "            if image_embed is None:\n",
    "                # Then we need to use clip to generate the image embedding\n",
    "                image_embed = self._embed_images(images)\n",
    "            # Then we need to group these tensors into batches of size batch_size such that the total number of samples is sample_count\n",
    "            image_embeddings, image_embeddings_map = self._repeat_tensor_and_batch(image_embed, repeat_num=sample_count, batch_size=batch_size)\n",
    "            self.print(f\"Decoder batched inputs into {len(image_embeddings)} batches. Total number of samples: {sum(len(t) for t in image_embeddings)}.\")\n",
    "        \n",
    "        if data_requirements.text_encoding:\n",
    "            if text_encoding is None:\n",
    "                text_encoding = self._encode_text(text)\n",
    "            text_encodings, text_encodings_map = self._repeat_tensor_and_batch(text_encoding, repeat_num=sample_count, batch_size=batch_size)\n",
    "\n",
    "        assert len(image_embeddings) > 0, \"No data provided for decoder inference.\"\n",
    "        output_image_map: Dict[int, List[PILImage.Image]] = {}\n",
    "        with self._decoder_in_gpu() as decoder:\n",
    "            for i in range(len(image_embeddings)):\n",
    "                args = {}\n",
    "                ### HW CODE START ###\n",
    "                \n",
    "                ### HW CODE END ###\n",
    "                embeddings_map = []\n",
    "                if data_requirements.image_embedding:\n",
    "                    args[\"image_embed\"] = image_embeddings[i].to(self.device)\n",
    "                    embeddings_map = image_embeddings_map[i]\n",
    "                if data_requirements.text_encoding:\n",
    "                    args[\"text_encodings\"] = text_encodings[i].to(self.device)\n",
    "                    embeddings_map = text_encodings_map[i]\n",
    "                if inpaint_images is not None:\n",
    "                    assert len(inpaint_images) == len(inpaint_image_masks), \"Number of inpaint images and masks must match.\"\n",
    "                    inpaint_image_tensors = self._pil_to_torch(inpaint_images, resize_for_clip=False)\n",
    "                    args[\"inpaint_image\"] = inpaint_image_tensors.to(self.device)\n",
    "                    args[\"inpaint_mask\"] = torch.stack(inpaint_image_masks).to(self.device)\n",
    "                    self.print(f\"image tensor shape: {args['inpaint_image'].shape}. mask shape: {args['inpaint_mask'].shape}\")\n",
    "                args.update({\n",
    "                    \"source_image_small_64\": source_image_small_64,\n",
    "                })\n",
    "                output_images = decoder.sample(**args, cond_scale=cond_scale)\n",
    "                for output_image, input_embedding_number in zip(output_images, embeddings_map):\n",
    "                    if input_embedding_number not in output_image_map:\n",
    "                        output_image_map[input_embedding_number] = []\n",
    "                    output_image_map[input_embedding_number].append(self._torch_to_pil(output_image))\n",
    "            return output_image_map\n",
    "\n",
    "# model_config = ModelLoadConfig.from_json_path(\"dalle2_laion.json\")\n",
    "# model_manager = DalleModelManager(model_config)\n",
    "# inference = ExampleInference(model_manager)\n",
    "# image = inference.run(\"Hello World\")"
   ]
  },
  {
   "cell_type": "code",
   "execution_count": 5,
   "id": "4c5904b7",
   "metadata": {},
   "outputs": [],
   "source": [
    "model_config = ModelLoadConfig.from_json_path(\"dalle2_laion.json\")"
   ]
  },
  {
   "cell_type": "code",
   "execution_count": 6,
   "id": "ec8cb59a",
   "metadata": {},
   "outputs": [
    {
     "name": "stdout",
     "output_type": "stream",
     "text": [
      "WARNING: This decoder was trained on version 1.1.0 but the current version is 1.2.1. This may result in the model failing to load.\n",
      "FIX: Switch to this version with `pip install DALLE2-pytorch==1.1.0`. If different models suggest different versions, you may just need to choose one.\n",
      "WARNING: This decoder was trained on an old version of Dalle2. This may result in the model failing to load or it may lead to producing garbage results.\n",
      "WARNING: This prior was trained on an old version of Dalle2. This may result in the model failing to load or it may produce garbage results.\n"
     ]
    }
   ],
   "source": [
    "model_manager = DalleModelManager(model_config)"
   ]
  },
  {
   "cell_type": "code",
   "execution_count": 7,
   "id": "d1795302",
   "metadata": {},
   "outputs": [],
   "source": [
    "inference = ExampleInference(model_manager)"
   ]
  },
  {
   "cell_type": "code",
   "execution_count": null,
   "id": "93fd5c96",
   "metadata": {},
   "outputs": [],
   "source": []
  },
  {
   "cell_type": "code",
   "execution_count": null,
   "id": "87fa1ed1",
   "metadata": {},
   "outputs": [],
   "source": []
  },
  {
   "cell_type": "code",
   "execution_count": 8,
   "id": "6cb06f26",
   "metadata": {},
   "outputs": [],
   "source": [
    "from PIL import Image\n",
    "import torch\n",
    "import torch.nn.functional as F\n",
    "from torchvision.transforms import ToTensor, ToPILImage\n",
    "import numpy as np\n",
    "\n",
    "import os\n",
    "from torchvision.transforms import Compose, ToTensor, Pad, Resize, ToPILImage, InterpolationMode\n",
    "\n",
    "class CocoDataset(torch.utils.data.Dataset):\n",
    "    def __init__(self, im_dir, caption_dir):\n",
    "        self.im_dir = im_dir\n",
    "        self.caption_dir = caption_dir\n",
    "        self.im_fnames = sorted(os.listdir(im_dir))\n",
    "        self.caption_fnames = sorted(os.listdir(caption_dir))\n",
    "        self.to_tensor_transform = ToTensor()\n",
    "        self.pad_transform = lambda im, pad_right, pad_bottom: Pad(padding=(0, 0, pad_right, pad_bottom))(im)\n",
    "        self.resize_transform = Resize((256, 256), interpolation=InterpolationMode.BILINEAR)\n",
    "\n",
    "    def __getitem__(self, idx):\n",
    "        im = Image.open(os.path.join(self.im_dir, self.im_fnames[idx]))\n",
    "        w, h = im.size\n",
    "        im = self.to_tensor_transform(im)\n",
    "        new_size = max(w, h)\n",
    "        im = self.pad_transform(im, new_size - w, new_size - h)\n",
    "        im = self.resize_transform(im)\n",
    "\n",
    "        with open(os.path.join(self.caption_dir, self.caption_fnames[idx]), 'r') as captions_f:\n",
    "            captions = captions_f.readlines()\n",
    "\n",
    "        return self.im_fnames[idx], im, captions\n",
    "\n",
    "    def __len__(self):\n",
    "        return len(self.im_fnames)"
   ]
  },
  {
   "cell_type": "code",
   "execution_count": 9,
   "id": "0ea8b56e",
   "metadata": {},
   "outputs": [],
   "source": [
    "def psnr(pred, gt):\n",
    "    # pred \\in [0, 1]\n",
    "    pred_int = pred * 255\n",
    "    gt = gt * 255\n",
    "    pred_int = torch.round(pred_int)\n",
    "    gt = torch.round(gt)\n",
    "    return 20 * torch.log10(255 / torch.sqrt(F.mse_loss(pred_int, gt)))"
   ]
  },
  {
   "cell_type": "code",
   "execution_count": 16,
   "id": "9d8a62e3",
   "metadata": {},
   "outputs": [
    {
     "data": {
      "application/vnd.jupyter.widget-view+json": {
       "model_id": "da3a4c07a5dc4f7f8264cc69e778d800",
       "version_major": 2,
       "version_minor": 0
      },
      "text/plain": [
       "sampling loop time step:   0%|          | 0/64 [00:00<?, ?it/s]"
      ]
     },
     "metadata": {},
     "output_type": "display_data"
    },
    {
     "name": "stdout",
     "output_type": "stream",
     "text": [
      "@@@ inside my_sample\n"
     ]
    },
    {
     "data": {
      "application/vnd.jupyter.widget-view+json": {
       "model_id": "5e1519cfbe904cc5a81dfb448a817a73",
       "version_major": 2,
       "version_minor": 0
      },
      "text/plain": [
       "0it [00:00, ?it/s]"
      ]
     },
     "metadata": {},
     "output_type": "display_data"
    },
    {
     "data": {
      "application/vnd.jupyter.widget-view+json": {
       "model_id": "a3e729cf0e7b474db229cdf2521d213d",
       "version_major": 2,
       "version_minor": 0
      },
      "text/plain": [
       "sampling loop time step:   0%|          | 0/1000 [00:00<?, ?it/s]"
      ]
     },
     "metadata": {},
     "output_type": "display_data"
    },
    {
     "data": {
      "application/vnd.jupyter.widget-view+json": {
       "model_id": "a21ed67ae7394db1916951d2420f37de",
       "version_major": 2,
       "version_minor": 0
      },
      "text/plain": [
       "sampling loop time step:   0%|          | 0/1000 [00:00<?, ?it/s]"
      ]
     },
     "metadata": {},
     "output_type": "display_data"
    },
    {
     "data": {
      "application/vnd.jupyter.widget-view+json": {
       "model_id": "28b397a1eab14d56bb823fdadfd092c7",
       "version_major": 2,
       "version_minor": 0
      },
      "text/plain": [
       "sampling loop time step:   0%|          | 0/64 [00:00<?, ?it/s]"
      ]
     },
     "metadata": {},
     "output_type": "display_data"
    },
    {
     "name": "stdout",
     "output_type": "stream",
     "text": [
      "@@@ inside my_sample\n"
     ]
    },
    {
     "data": {
      "application/vnd.jupyter.widget-view+json": {
       "model_id": "0d4902816a2743e2bf7b00f03d39a87a",
       "version_major": 2,
       "version_minor": 0
      },
      "text/plain": [
       "0it [00:00, ?it/s]"
      ]
     },
     "metadata": {},
     "output_type": "display_data"
    },
    {
     "data": {
      "application/vnd.jupyter.widget-view+json": {
       "model_id": "d123d83442f546a0a502e2007b898171",
       "version_major": 2,
       "version_minor": 0
      },
      "text/plain": [
       "sampling loop time step:   0%|          | 0/1000 [00:00<?, ?it/s]"
      ]
     },
     "metadata": {},
     "output_type": "display_data"
    },
    {
     "data": {
      "application/vnd.jupyter.widget-view+json": {
       "model_id": "f4ddcfc74cd2429bb19b33a2e0305957",
       "version_major": 2,
       "version_minor": 0
      },
      "text/plain": [
       "sampling loop time step:   0%|          | 0/1000 [00:00<?, ?it/s]"
      ]
     },
     "metadata": {},
     "output_type": "display_data"
    },
    {
     "data": {
      "application/vnd.jupyter.widget-view+json": {
       "model_id": "e7d1020ea1df4e0a8e55a0ca8b3a4909",
       "version_major": 2,
       "version_minor": 0
      },
      "text/plain": [
       "sampling loop time step:   0%|          | 0/64 [00:00<?, ?it/s]"
      ]
     },
     "metadata": {},
     "output_type": "display_data"
    },
    {
     "name": "stdout",
     "output_type": "stream",
     "text": [
      "@@@ inside my_sample\n"
     ]
    },
    {
     "data": {
      "application/vnd.jupyter.widget-view+json": {
       "model_id": "67eb294e0ff643d0909b2b6b99cf3448",
       "version_major": 2,
       "version_minor": 0
      },
      "text/plain": [
       "0it [00:00, ?it/s]"
      ]
     },
     "metadata": {},
     "output_type": "display_data"
    },
    {
     "data": {
      "application/vnd.jupyter.widget-view+json": {
       "model_id": "5b08542551bd4a75b6a90316a70fdaf9",
       "version_major": 2,
       "version_minor": 0
      },
      "text/plain": [
       "sampling loop time step:   0%|          | 0/1000 [00:00<?, ?it/s]"
      ]
     },
     "metadata": {},
     "output_type": "display_data"
    },
    {
     "data": {
      "application/vnd.jupyter.widget-view+json": {
       "model_id": "77a7d90fdec64ff0a7b85b16b4c98464",
       "version_major": 2,
       "version_minor": 0
      },
      "text/plain": [
       "sampling loop time step:   0%|          | 0/1000 [00:00<?, ?it/s]"
      ]
     },
     "metadata": {},
     "output_type": "display_data"
    },
    {
     "data": {
      "application/vnd.jupyter.widget-view+json": {
       "model_id": "af9b344bbeff4f1381d082d69a4eacf7",
       "version_major": 2,
       "version_minor": 0
      },
      "text/plain": [
       "sampling loop time step:   0%|          | 0/64 [00:00<?, ?it/s]"
      ]
     },
     "metadata": {},
     "output_type": "display_data"
    },
    {
     "name": "stdout",
     "output_type": "stream",
     "text": [
      "@@@ inside my_sample\n"
     ]
    },
    {
     "data": {
      "application/vnd.jupyter.widget-view+json": {
       "model_id": "c89ad37935c74fe59096de1fa5641ae3",
       "version_major": 2,
       "version_minor": 0
      },
      "text/plain": [
       "0it [00:00, ?it/s]"
      ]
     },
     "metadata": {},
     "output_type": "display_data"
    },
    {
     "data": {
      "application/vnd.jupyter.widget-view+json": {
       "model_id": "d86cac3493fa47dcba10515da30b1284",
       "version_major": 2,
       "version_minor": 0
      },
      "text/plain": [
       "sampling loop time step:   0%|          | 0/1000 [00:00<?, ?it/s]"
      ]
     },
     "metadata": {},
     "output_type": "display_data"
    },
    {
     "data": {
      "application/vnd.jupyter.widget-view+json": {
       "model_id": "d18dba20f19f4302adafb8577aa837f5",
       "version_major": 2,
       "version_minor": 0
      },
      "text/plain": [
       "sampling loop time step:   0%|          | 0/1000 [00:00<?, ?it/s]"
      ]
     },
     "metadata": {},
     "output_type": "display_data"
    },
    {
     "data": {
      "application/vnd.jupyter.widget-view+json": {
       "model_id": "49ea2b4918c0445c891ef46af8372ddb",
       "version_major": 2,
       "version_minor": 0
      },
      "text/plain": [
       "sampling loop time step:   0%|          | 0/64 [00:00<?, ?it/s]"
      ]
     },
     "metadata": {},
     "output_type": "display_data"
    },
    {
     "name": "stdout",
     "output_type": "stream",
     "text": [
      "@@@ inside my_sample\n"
     ]
    },
    {
     "data": {
      "application/vnd.jupyter.widget-view+json": {
       "model_id": "68cca9b0f7a14fdfabbcb883cbd7c28d",
       "version_major": 2,
       "version_minor": 0
      },
      "text/plain": [
       "0it [00:00, ?it/s]"
      ]
     },
     "metadata": {},
     "output_type": "display_data"
    },
    {
     "data": {
      "application/vnd.jupyter.widget-view+json": {
       "model_id": "554e15b46f234aa9ac782552dfcfe0b6",
       "version_major": 2,
       "version_minor": 0
      },
      "text/plain": [
       "sampling loop time step:   0%|          | 0/1000 [00:00<?, ?it/s]"
      ]
     },
     "metadata": {},
     "output_type": "display_data"
    },
    {
     "data": {
      "application/vnd.jupyter.widget-view+json": {
       "model_id": "0d4c4b641dd64be1bb9b52b9549c299d",
       "version_major": 2,
       "version_minor": 0
      },
      "text/plain": [
       "sampling loop time step:   0%|          | 0/1000 [00:00<?, ?it/s]"
      ]
     },
     "metadata": {},
     "output_type": "display_data"
    },
    {
     "name": "stdout",
     "output_type": "stream",
     "text": [
      "image = banana.jpg\n",
      "22.468290328979492\n",
      "\n",
      "---------------------------\n",
      "\n"
     ]
    },
    {
     "data": {
      "application/vnd.jupyter.widget-view+json": {
       "model_id": "795a1b0e65e841869f08f5dedb5f6551",
       "version_major": 2,
       "version_minor": 0
      },
      "text/plain": [
       "sampling loop time step:   0%|          | 0/64 [00:00<?, ?it/s]"
      ]
     },
     "metadata": {},
     "output_type": "display_data"
    },
    {
     "name": "stdout",
     "output_type": "stream",
     "text": [
      "@@@ inside my_sample\n"
     ]
    },
    {
     "data": {
      "application/vnd.jupyter.widget-view+json": {
       "model_id": "8e8b7d033bb948369a33db27b77ab8c5",
       "version_major": 2,
       "version_minor": 0
      },
      "text/plain": [
       "0it [00:00, ?it/s]"
      ]
     },
     "metadata": {},
     "output_type": "display_data"
    },
    {
     "data": {
      "application/vnd.jupyter.widget-view+json": {
       "model_id": "21e1522b1cc645059c3f639ba6152493",
       "version_major": 2,
       "version_minor": 0
      },
      "text/plain": [
       "sampling loop time step:   0%|          | 0/1000 [00:00<?, ?it/s]"
      ]
     },
     "metadata": {},
     "output_type": "display_data"
    },
    {
     "data": {
      "application/vnd.jupyter.widget-view+json": {
       "model_id": "4bc272cd74ef41b3b7cb44b0f4fca7f5",
       "version_major": 2,
       "version_minor": 0
      },
      "text/plain": [
       "sampling loop time step:   0%|          | 0/1000 [00:00<?, ?it/s]"
      ]
     },
     "metadata": {},
     "output_type": "display_data"
    },
    {
     "data": {
      "application/vnd.jupyter.widget-view+json": {
       "model_id": "8808da50404f42308aa8c3932a0603ba",
       "version_major": 2,
       "version_minor": 0
      },
      "text/plain": [
       "sampling loop time step:   0%|          | 0/64 [00:00<?, ?it/s]"
      ]
     },
     "metadata": {},
     "output_type": "display_data"
    },
    {
     "name": "stdout",
     "output_type": "stream",
     "text": [
      "@@@ inside my_sample\n"
     ]
    },
    {
     "data": {
      "application/vnd.jupyter.widget-view+json": {
       "model_id": "f1b1a9b9688a465f8c7165e678cf9e50",
       "version_major": 2,
       "version_minor": 0
      },
      "text/plain": [
       "0it [00:00, ?it/s]"
      ]
     },
     "metadata": {},
     "output_type": "display_data"
    },
    {
     "data": {
      "application/vnd.jupyter.widget-view+json": {
       "model_id": "90dccda7f61649dea50a03450d245d9a",
       "version_major": 2,
       "version_minor": 0
      },
      "text/plain": [
       "sampling loop time step:   0%|          | 0/1000 [00:00<?, ?it/s]"
      ]
     },
     "metadata": {},
     "output_type": "display_data"
    },
    {
     "data": {
      "application/vnd.jupyter.widget-view+json": {
       "model_id": "92e1788e9580467b9a39582b4a60bc7d",
       "version_major": 2,
       "version_minor": 0
      },
      "text/plain": [
       "sampling loop time step:   0%|          | 0/1000 [00:00<?, ?it/s]"
      ]
     },
     "metadata": {},
     "output_type": "display_data"
    },
    {
     "data": {
      "application/vnd.jupyter.widget-view+json": {
       "model_id": "dcb617d6fb9d48238f9b90fe49523dfd",
       "version_major": 2,
       "version_minor": 0
      },
      "text/plain": [
       "sampling loop time step:   0%|          | 0/64 [00:00<?, ?it/s]"
      ]
     },
     "metadata": {},
     "output_type": "display_data"
    },
    {
     "name": "stdout",
     "output_type": "stream",
     "text": [
      "@@@ inside my_sample\n"
     ]
    },
    {
     "data": {
      "application/vnd.jupyter.widget-view+json": {
       "model_id": "db93c7bc0fd447a485bc716021b1aa52",
       "version_major": 2,
       "version_minor": 0
      },
      "text/plain": [
       "0it [00:00, ?it/s]"
      ]
     },
     "metadata": {},
     "output_type": "display_data"
    },
    {
     "data": {
      "application/vnd.jupyter.widget-view+json": {
       "model_id": "6cf1a74d7c994850a854b77aa73693b3",
       "version_major": 2,
       "version_minor": 0
      },
      "text/plain": [
       "sampling loop time step:   0%|          | 0/1000 [00:00<?, ?it/s]"
      ]
     },
     "metadata": {},
     "output_type": "display_data"
    },
    {
     "data": {
      "application/vnd.jupyter.widget-view+json": {
       "model_id": "b36aab1ec9fa4401bfd4902b192df1ec",
       "version_major": 2,
       "version_minor": 0
      },
      "text/plain": [
       "sampling loop time step:   0%|          | 0/1000 [00:00<?, ?it/s]"
      ]
     },
     "metadata": {},
     "output_type": "display_data"
    },
    {
     "data": {
      "application/vnd.jupyter.widget-view+json": {
       "model_id": "b7aab7784acf46ad90ba056a41bcae24",
       "version_major": 2,
       "version_minor": 0
      },
      "text/plain": [
       "sampling loop time step:   0%|          | 0/64 [00:00<?, ?it/s]"
      ]
     },
     "metadata": {},
     "output_type": "display_data"
    },
    {
     "name": "stdout",
     "output_type": "stream",
     "text": [
      "@@@ inside my_sample\n"
     ]
    },
    {
     "data": {
      "application/vnd.jupyter.widget-view+json": {
       "model_id": "abf706b2fe4d4955b98c2ee21cfd7379",
       "version_major": 2,
       "version_minor": 0
      },
      "text/plain": [
       "0it [00:00, ?it/s]"
      ]
     },
     "metadata": {},
     "output_type": "display_data"
    },
    {
     "data": {
      "application/vnd.jupyter.widget-view+json": {
       "model_id": "82fcc44de4954c0783537ca880c3271f",
       "version_major": 2,
       "version_minor": 0
      },
      "text/plain": [
       "sampling loop time step:   0%|          | 0/1000 [00:00<?, ?it/s]"
      ]
     },
     "metadata": {},
     "output_type": "display_data"
    },
    {
     "data": {
      "application/vnd.jupyter.widget-view+json": {
       "model_id": "4721ccfbd011465799141e3035a00237",
       "version_major": 2,
       "version_minor": 0
      },
      "text/plain": [
       "sampling loop time step:   0%|          | 0/1000 [00:00<?, ?it/s]"
      ]
     },
     "metadata": {},
     "output_type": "display_data"
    },
    {
     "data": {
      "application/vnd.jupyter.widget-view+json": {
       "model_id": "e74af7bcb685461fb471afa6d2662c69",
       "version_major": 2,
       "version_minor": 0
      },
      "text/plain": [
       "sampling loop time step:   0%|          | 0/64 [00:00<?, ?it/s]"
      ]
     },
     "metadata": {},
     "output_type": "display_data"
    },
    {
     "name": "stdout",
     "output_type": "stream",
     "text": [
      "@@@ inside my_sample\n"
     ]
    },
    {
     "data": {
      "application/vnd.jupyter.widget-view+json": {
       "model_id": "f20258f4b7c74d208ae3f0ac572d8d2c",
       "version_major": 2,
       "version_minor": 0
      },
      "text/plain": [
       "0it [00:00, ?it/s]"
      ]
     },
     "metadata": {},
     "output_type": "display_data"
    },
    {
     "data": {
      "application/vnd.jupyter.widget-view+json": {
       "model_id": "5ac0e788a31b41248c3a8d97f9450347",
       "version_major": 2,
       "version_minor": 0
      },
      "text/plain": [
       "sampling loop time step:   0%|          | 0/1000 [00:00<?, ?it/s]"
      ]
     },
     "metadata": {},
     "output_type": "display_data"
    },
    {
     "data": {
      "application/vnd.jupyter.widget-view+json": {
       "model_id": "13027c88c3f649deb470051f777c6dc0",
       "version_major": 2,
       "version_minor": 0
      },
      "text/plain": [
       "sampling loop time step:   0%|          | 0/1000 [00:00<?, ?it/s]"
      ]
     },
     "metadata": {},
     "output_type": "display_data"
    },
    {
     "name": "stdout",
     "output_type": "stream",
     "text": [
      "image = cat.jpg\n",
      "21.827993392944336\n",
      "\n",
      "---------------------------\n",
      "\n"
     ]
    },
    {
     "data": {
      "application/vnd.jupyter.widget-view+json": {
       "model_id": "e87c5de9de5a445fb6f6161932c5b419",
       "version_major": 2,
       "version_minor": 0
      },
      "text/plain": [
       "sampling loop time step:   0%|          | 0/64 [00:00<?, ?it/s]"
      ]
     },
     "metadata": {},
     "output_type": "display_data"
    },
    {
     "name": "stdout",
     "output_type": "stream",
     "text": [
      "@@@ inside my_sample\n"
     ]
    },
    {
     "data": {
      "application/vnd.jupyter.widget-view+json": {
       "model_id": "e0e7805b184a4397aa92ca3fd0dc9461",
       "version_major": 2,
       "version_minor": 0
      },
      "text/plain": [
       "0it [00:00, ?it/s]"
      ]
     },
     "metadata": {},
     "output_type": "display_data"
    },
    {
     "data": {
      "application/vnd.jupyter.widget-view+json": {
       "model_id": "cb67ec7e026f4a9a9a8a079d261cd58a",
       "version_major": 2,
       "version_minor": 0
      },
      "text/plain": [
       "sampling loop time step:   0%|          | 0/1000 [00:00<?, ?it/s]"
      ]
     },
     "metadata": {},
     "output_type": "display_data"
    },
    {
     "data": {
      "application/vnd.jupyter.widget-view+json": {
       "model_id": "5b05a434494e4c2facf8e0f2419b5b23",
       "version_major": 2,
       "version_minor": 0
      },
      "text/plain": [
       "sampling loop time step:   0%|          | 0/1000 [00:00<?, ?it/s]"
      ]
     },
     "metadata": {},
     "output_type": "display_data"
    },
    {
     "data": {
      "application/vnd.jupyter.widget-view+json": {
       "model_id": "f7e0ed12ffbb4b4d819b8f7911d29a17",
       "version_major": 2,
       "version_minor": 0
      },
      "text/plain": [
       "sampling loop time step:   0%|          | 0/64 [00:00<?, ?it/s]"
      ]
     },
     "metadata": {},
     "output_type": "display_data"
    },
    {
     "name": "stdout",
     "output_type": "stream",
     "text": [
      "@@@ inside my_sample\n"
     ]
    },
    {
     "data": {
      "application/vnd.jupyter.widget-view+json": {
       "model_id": "8d89e10bfc9f4b03ad4d2342debd6b7b",
       "version_major": 2,
       "version_minor": 0
      },
      "text/plain": [
       "0it [00:00, ?it/s]"
      ]
     },
     "metadata": {},
     "output_type": "display_data"
    },
    {
     "data": {
      "application/vnd.jupyter.widget-view+json": {
       "model_id": "0e8c44cff47a4913b4c3e9d512887c2b",
       "version_major": 2,
       "version_minor": 0
      },
      "text/plain": [
       "sampling loop time step:   0%|          | 0/1000 [00:00<?, ?it/s]"
      ]
     },
     "metadata": {},
     "output_type": "display_data"
    },
    {
     "data": {
      "application/vnd.jupyter.widget-view+json": {
       "model_id": "bde4839eecae4092ab7b4ec7952e68eb",
       "version_major": 2,
       "version_minor": 0
      },
      "text/plain": [
       "sampling loop time step:   0%|          | 0/1000 [00:00<?, ?it/s]"
      ]
     },
     "metadata": {},
     "output_type": "display_data"
    },
    {
     "data": {
      "application/vnd.jupyter.widget-view+json": {
       "model_id": "3909a7df2962456bab8a2dd5f3a0d403",
       "version_major": 2,
       "version_minor": 0
      },
      "text/plain": [
       "sampling loop time step:   0%|          | 0/64 [00:00<?, ?it/s]"
      ]
     },
     "metadata": {},
     "output_type": "display_data"
    },
    {
     "name": "stdout",
     "output_type": "stream",
     "text": [
      "@@@ inside my_sample\n"
     ]
    },
    {
     "data": {
      "application/vnd.jupyter.widget-view+json": {
       "model_id": "81b2bb85db6241f98f2e207a9f014e34",
       "version_major": 2,
       "version_minor": 0
      },
      "text/plain": [
       "0it [00:00, ?it/s]"
      ]
     },
     "metadata": {},
     "output_type": "display_data"
    },
    {
     "data": {
      "application/vnd.jupyter.widget-view+json": {
       "model_id": "c33b9e0568854eebba59281daf38faca",
       "version_major": 2,
       "version_minor": 0
      },
      "text/plain": [
       "sampling loop time step:   0%|          | 0/1000 [00:00<?, ?it/s]"
      ]
     },
     "metadata": {},
     "output_type": "display_data"
    },
    {
     "data": {
      "application/vnd.jupyter.widget-view+json": {
       "model_id": "e27fa28ca73e4a7da6dc3d2719896cff",
       "version_major": 2,
       "version_minor": 0
      },
      "text/plain": [
       "sampling loop time step:   0%|          | 0/1000 [00:00<?, ?it/s]"
      ]
     },
     "metadata": {},
     "output_type": "display_data"
    },
    {
     "data": {
      "application/vnd.jupyter.widget-view+json": {
       "model_id": "e318e6f9c0954986ac682629169f2b58",
       "version_major": 2,
       "version_minor": 0
      },
      "text/plain": [
       "sampling loop time step:   0%|          | 0/64 [00:00<?, ?it/s]"
      ]
     },
     "metadata": {},
     "output_type": "display_data"
    },
    {
     "name": "stdout",
     "output_type": "stream",
     "text": [
      "@@@ inside my_sample\n"
     ]
    },
    {
     "data": {
      "application/vnd.jupyter.widget-view+json": {
       "model_id": "29fa180050d64b2a9e40fb3a4e34dcf0",
       "version_major": 2,
       "version_minor": 0
      },
      "text/plain": [
       "0it [00:00, ?it/s]"
      ]
     },
     "metadata": {},
     "output_type": "display_data"
    },
    {
     "data": {
      "application/vnd.jupyter.widget-view+json": {
       "model_id": "47299b90b67048c380337f04806c15c6",
       "version_major": 2,
       "version_minor": 0
      },
      "text/plain": [
       "sampling loop time step:   0%|          | 0/1000 [00:00<?, ?it/s]"
      ]
     },
     "metadata": {},
     "output_type": "display_data"
    },
    {
     "data": {
      "application/vnd.jupyter.widget-view+json": {
       "model_id": "5e2247ea27bb4beaad0b9ccf66dc8b87",
       "version_major": 2,
       "version_minor": 0
      },
      "text/plain": [
       "sampling loop time step:   0%|          | 0/1000 [00:00<?, ?it/s]"
      ]
     },
     "metadata": {},
     "output_type": "display_data"
    },
    {
     "data": {
      "application/vnd.jupyter.widget-view+json": {
       "model_id": "8e97bfc47e76426d899c67090588cfcd",
       "version_major": 2,
       "version_minor": 0
      },
      "text/plain": [
       "sampling loop time step:   0%|          | 0/64 [00:00<?, ?it/s]"
      ]
     },
     "metadata": {},
     "output_type": "display_data"
    },
    {
     "name": "stdout",
     "output_type": "stream",
     "text": [
      "@@@ inside my_sample\n"
     ]
    },
    {
     "data": {
      "application/vnd.jupyter.widget-view+json": {
       "model_id": "b80f7f569e154400bceea36566564922",
       "version_major": 2,
       "version_minor": 0
      },
      "text/plain": [
       "0it [00:00, ?it/s]"
      ]
     },
     "metadata": {},
     "output_type": "display_data"
    },
    {
     "data": {
      "application/vnd.jupyter.widget-view+json": {
       "model_id": "8f806190a9184c619fad9f57872b9f29",
       "version_major": 2,
       "version_minor": 0
      },
      "text/plain": [
       "sampling loop time step:   0%|          | 0/1000 [00:00<?, ?it/s]"
      ]
     },
     "metadata": {},
     "output_type": "display_data"
    },
    {
     "data": {
      "application/vnd.jupyter.widget-view+json": {
       "model_id": "ef54713274ce413183b4e596d0d33e98",
       "version_major": 2,
       "version_minor": 0
      },
      "text/plain": [
       "sampling loop time step:   0%|          | 0/1000 [00:00<?, ?it/s]"
      ]
     },
     "metadata": {},
     "output_type": "display_data"
    },
    {
     "name": "stdout",
     "output_type": "stream",
     "text": [
      "image = elephant.jpg\n",
      "23.965728759765625\n",
      "\n",
      "---------------------------\n",
      "\n"
     ]
    },
    {
     "data": {
      "application/vnd.jupyter.widget-view+json": {
       "model_id": "b51a6d715ccf471d8d7149e8e59849c9",
       "version_major": 2,
       "version_minor": 0
      },
      "text/plain": [
       "sampling loop time step:   0%|          | 0/64 [00:00<?, ?it/s]"
      ]
     },
     "metadata": {},
     "output_type": "display_data"
    },
    {
     "name": "stdout",
     "output_type": "stream",
     "text": [
      "@@@ inside my_sample\n"
     ]
    },
    {
     "data": {
      "application/vnd.jupyter.widget-view+json": {
       "model_id": "74c886fcdb854eef9544b365b811fd92",
       "version_major": 2,
       "version_minor": 0
      },
      "text/plain": [
       "0it [00:00, ?it/s]"
      ]
     },
     "metadata": {},
     "output_type": "display_data"
    },
    {
     "data": {
      "application/vnd.jupyter.widget-view+json": {
       "model_id": "ef3632fe1c6c46259280f8be787a4d02",
       "version_major": 2,
       "version_minor": 0
      },
      "text/plain": [
       "sampling loop time step:   0%|          | 0/1000 [00:00<?, ?it/s]"
      ]
     },
     "metadata": {},
     "output_type": "display_data"
    },
    {
     "data": {
      "application/vnd.jupyter.widget-view+json": {
       "model_id": "1817c720c38f41ba9bf48679a9c700d1",
       "version_major": 2,
       "version_minor": 0
      },
      "text/plain": [
       "sampling loop time step:   0%|          | 0/1000 [00:00<?, ?it/s]"
      ]
     },
     "metadata": {},
     "output_type": "display_data"
    },
    {
     "data": {
      "application/vnd.jupyter.widget-view+json": {
       "model_id": "0958ea911a634e3cb3394bd876004ee9",
       "version_major": 2,
       "version_minor": 0
      },
      "text/plain": [
       "sampling loop time step:   0%|          | 0/64 [00:00<?, ?it/s]"
      ]
     },
     "metadata": {},
     "output_type": "display_data"
    },
    {
     "name": "stdout",
     "output_type": "stream",
     "text": [
      "@@@ inside my_sample\n"
     ]
    },
    {
     "data": {
      "application/vnd.jupyter.widget-view+json": {
       "model_id": "a81cc6f5b13540389a648777dd1bc80a",
       "version_major": 2,
       "version_minor": 0
      },
      "text/plain": [
       "0it [00:00, ?it/s]"
      ]
     },
     "metadata": {},
     "output_type": "display_data"
    },
    {
     "data": {
      "application/vnd.jupyter.widget-view+json": {
       "model_id": "10d98f03aeaf4a82879090a2e4552855",
       "version_major": 2,
       "version_minor": 0
      },
      "text/plain": [
       "sampling loop time step:   0%|          | 0/1000 [00:00<?, ?it/s]"
      ]
     },
     "metadata": {},
     "output_type": "display_data"
    },
    {
     "data": {
      "application/vnd.jupyter.widget-view+json": {
       "model_id": "4ae5c67ed8b948b797828071b3995efc",
       "version_major": 2,
       "version_minor": 0
      },
      "text/plain": [
       "sampling loop time step:   0%|          | 0/1000 [00:00<?, ?it/s]"
      ]
     },
     "metadata": {},
     "output_type": "display_data"
    },
    {
     "data": {
      "application/vnd.jupyter.widget-view+json": {
       "model_id": "7f6bc9501abe41f9aab2b9ee233b34aa",
       "version_major": 2,
       "version_minor": 0
      },
      "text/plain": [
       "sampling loop time step:   0%|          | 0/64 [00:00<?, ?it/s]"
      ]
     },
     "metadata": {},
     "output_type": "display_data"
    },
    {
     "name": "stdout",
     "output_type": "stream",
     "text": [
      "@@@ inside my_sample\n"
     ]
    },
    {
     "data": {
      "application/vnd.jupyter.widget-view+json": {
       "model_id": "f5b92cc772314b8390a355cc0d2a5dcb",
       "version_major": 2,
       "version_minor": 0
      },
      "text/plain": [
       "0it [00:00, ?it/s]"
      ]
     },
     "metadata": {},
     "output_type": "display_data"
    },
    {
     "data": {
      "application/vnd.jupyter.widget-view+json": {
       "model_id": "b058eeaf3a4a4c40bca907606b4c5900",
       "version_major": 2,
       "version_minor": 0
      },
      "text/plain": [
       "sampling loop time step:   0%|          | 0/1000 [00:00<?, ?it/s]"
      ]
     },
     "metadata": {},
     "output_type": "display_data"
    },
    {
     "data": {
      "application/vnd.jupyter.widget-view+json": {
       "model_id": "fc45fdac67944ba2be00441c84807296",
       "version_major": 2,
       "version_minor": 0
      },
      "text/plain": [
       "sampling loop time step:   0%|          | 0/1000 [00:00<?, ?it/s]"
      ]
     },
     "metadata": {},
     "output_type": "display_data"
    },
    {
     "data": {
      "application/vnd.jupyter.widget-view+json": {
       "model_id": "c493f1b3142a426d8914143a01e48179",
       "version_major": 2,
       "version_minor": 0
      },
      "text/plain": [
       "sampling loop time step:   0%|          | 0/64 [00:00<?, ?it/s]"
      ]
     },
     "metadata": {},
     "output_type": "display_data"
    },
    {
     "name": "stdout",
     "output_type": "stream",
     "text": [
      "@@@ inside my_sample\n"
     ]
    },
    {
     "data": {
      "application/vnd.jupyter.widget-view+json": {
       "model_id": "237cde666e7d4a29abbedf6d49f897b0",
       "version_major": 2,
       "version_minor": 0
      },
      "text/plain": [
       "0it [00:00, ?it/s]"
      ]
     },
     "metadata": {},
     "output_type": "display_data"
    },
    {
     "data": {
      "application/vnd.jupyter.widget-view+json": {
       "model_id": "505a52ed3aad4ba99072aaf634aa0881",
       "version_major": 2,
       "version_minor": 0
      },
      "text/plain": [
       "sampling loop time step:   0%|          | 0/1000 [00:00<?, ?it/s]"
      ]
     },
     "metadata": {},
     "output_type": "display_data"
    },
    {
     "data": {
      "application/vnd.jupyter.widget-view+json": {
       "model_id": "e9a072b2f0ba4fc3936ba69da435fb08",
       "version_major": 2,
       "version_minor": 0
      },
      "text/plain": [
       "sampling loop time step:   0%|          | 0/1000 [00:00<?, ?it/s]"
      ]
     },
     "metadata": {},
     "output_type": "display_data"
    },
    {
     "data": {
      "application/vnd.jupyter.widget-view+json": {
       "model_id": "bcb4a07bd3e644189b6df48748fd467c",
       "version_major": 2,
       "version_minor": 0
      },
      "text/plain": [
       "sampling loop time step:   0%|          | 0/64 [00:00<?, ?it/s]"
      ]
     },
     "metadata": {},
     "output_type": "display_data"
    },
    {
     "name": "stdout",
     "output_type": "stream",
     "text": [
      "@@@ inside my_sample\n"
     ]
    },
    {
     "data": {
      "application/vnd.jupyter.widget-view+json": {
       "model_id": "cd74dc7c97ff48aca71f32c54c39a60e",
       "version_major": 2,
       "version_minor": 0
      },
      "text/plain": [
       "0it [00:00, ?it/s]"
      ]
     },
     "metadata": {},
     "output_type": "display_data"
    },
    {
     "data": {
      "application/vnd.jupyter.widget-view+json": {
       "model_id": "786e4b988800434d8f7d43739db77706",
       "version_major": 2,
       "version_minor": 0
      },
      "text/plain": [
       "sampling loop time step:   0%|          | 0/1000 [00:00<?, ?it/s]"
      ]
     },
     "metadata": {},
     "output_type": "display_data"
    },
    {
     "data": {
      "application/vnd.jupyter.widget-view+json": {
       "model_id": "1c43211b47044eb3ae0f5ac24c70d1a4",
       "version_major": 2,
       "version_minor": 0
      },
      "text/plain": [
       "sampling loop time step:   0%|          | 0/1000 [00:00<?, ?it/s]"
      ]
     },
     "metadata": {},
     "output_type": "display_data"
    },
    {
     "name": "stdout",
     "output_type": "stream",
     "text": [
      "image = pizza.jpg\n",
      "22.672077178955078\n",
      "\n",
      "---------------------------\n",
      "\n"
     ]
    },
    {
     "data": {
      "application/vnd.jupyter.widget-view+json": {
       "model_id": "9eb76139a29547ee9826e9803528235c",
       "version_major": 2,
       "version_minor": 0
      },
      "text/plain": [
       "sampling loop time step:   0%|          | 0/64 [00:00<?, ?it/s]"
      ]
     },
     "metadata": {},
     "output_type": "display_data"
    },
    {
     "name": "stdout",
     "output_type": "stream",
     "text": [
      "@@@ inside my_sample\n"
     ]
    },
    {
     "data": {
      "application/vnd.jupyter.widget-view+json": {
       "model_id": "4e39548359554043bfe8bcb3490885ac",
       "version_major": 2,
       "version_minor": 0
      },
      "text/plain": [
       "0it [00:00, ?it/s]"
      ]
     },
     "metadata": {},
     "output_type": "display_data"
    },
    {
     "data": {
      "application/vnd.jupyter.widget-view+json": {
       "model_id": "2fd0bed5e6bf4c45b418f6c734419421",
       "version_major": 2,
       "version_minor": 0
      },
      "text/plain": [
       "sampling loop time step:   0%|          | 0/1000 [00:00<?, ?it/s]"
      ]
     },
     "metadata": {},
     "output_type": "display_data"
    },
    {
     "data": {
      "application/vnd.jupyter.widget-view+json": {
       "model_id": "e7b3b7c616fa43d3b0d95227c9b22419",
       "version_major": 2,
       "version_minor": 0
      },
      "text/plain": [
       "sampling loop time step:   0%|          | 0/1000 [00:00<?, ?it/s]"
      ]
     },
     "metadata": {},
     "output_type": "display_data"
    },
    {
     "data": {
      "application/vnd.jupyter.widget-view+json": {
       "model_id": "41e41351d3244472ade73b95c69495ce",
       "version_major": 2,
       "version_minor": 0
      },
      "text/plain": [
       "sampling loop time step:   0%|          | 0/64 [00:00<?, ?it/s]"
      ]
     },
     "metadata": {},
     "output_type": "display_data"
    },
    {
     "name": "stdout",
     "output_type": "stream",
     "text": [
      "@@@ inside my_sample\n"
     ]
    },
    {
     "data": {
      "application/vnd.jupyter.widget-view+json": {
       "model_id": "1432809cf02e4b90ae340b757d19ea0b",
       "version_major": 2,
       "version_minor": 0
      },
      "text/plain": [
       "0it [00:00, ?it/s]"
      ]
     },
     "metadata": {},
     "output_type": "display_data"
    },
    {
     "data": {
      "application/vnd.jupyter.widget-view+json": {
       "model_id": "da4da0c13d514845980b62cbf30b612d",
       "version_major": 2,
       "version_minor": 0
      },
      "text/plain": [
       "sampling loop time step:   0%|          | 0/1000 [00:00<?, ?it/s]"
      ]
     },
     "metadata": {},
     "output_type": "display_data"
    },
    {
     "data": {
      "application/vnd.jupyter.widget-view+json": {
       "model_id": "344cadce05ae41b6bbdc35158780b5cb",
       "version_major": 2,
       "version_minor": 0
      },
      "text/plain": [
       "sampling loop time step:   0%|          | 0/1000 [00:00<?, ?it/s]"
      ]
     },
     "metadata": {},
     "output_type": "display_data"
    },
    {
     "data": {
      "application/vnd.jupyter.widget-view+json": {
       "model_id": "c840897e4d4b45a3bdf4908e3aa535ba",
       "version_major": 2,
       "version_minor": 0
      },
      "text/plain": [
       "sampling loop time step:   0%|          | 0/64 [00:00<?, ?it/s]"
      ]
     },
     "metadata": {},
     "output_type": "display_data"
    },
    {
     "name": "stdout",
     "output_type": "stream",
     "text": [
      "@@@ inside my_sample\n"
     ]
    },
    {
     "data": {
      "application/vnd.jupyter.widget-view+json": {
       "model_id": "62cd1bea003e4a53933a431f4f0987ed",
       "version_major": 2,
       "version_minor": 0
      },
      "text/plain": [
       "0it [00:00, ?it/s]"
      ]
     },
     "metadata": {},
     "output_type": "display_data"
    },
    {
     "data": {
      "application/vnd.jupyter.widget-view+json": {
       "model_id": "6257a3f4074a4d78abeae93fcf9e9fae",
       "version_major": 2,
       "version_minor": 0
      },
      "text/plain": [
       "sampling loop time step:   0%|          | 0/1000 [00:00<?, ?it/s]"
      ]
     },
     "metadata": {},
     "output_type": "display_data"
    },
    {
     "data": {
      "application/vnd.jupyter.widget-view+json": {
       "model_id": "8f6ad27135904d49a218e05387b38c66",
       "version_major": 2,
       "version_minor": 0
      },
      "text/plain": [
       "sampling loop time step:   0%|          | 0/1000 [00:00<?, ?it/s]"
      ]
     },
     "metadata": {},
     "output_type": "display_data"
    },
    {
     "data": {
      "application/vnd.jupyter.widget-view+json": {
       "model_id": "7fb2965b92c548d7bddc1b307d825320",
       "version_major": 2,
       "version_minor": 0
      },
      "text/plain": [
       "sampling loop time step:   0%|          | 0/64 [00:00<?, ?it/s]"
      ]
     },
     "metadata": {},
     "output_type": "display_data"
    },
    {
     "name": "stdout",
     "output_type": "stream",
     "text": [
      "@@@ inside my_sample\n"
     ]
    },
    {
     "data": {
      "application/vnd.jupyter.widget-view+json": {
       "model_id": "14837ef7393d456397bcc5aea27587db",
       "version_major": 2,
       "version_minor": 0
      },
      "text/plain": [
       "0it [00:00, ?it/s]"
      ]
     },
     "metadata": {},
     "output_type": "display_data"
    },
    {
     "data": {
      "application/vnd.jupyter.widget-view+json": {
       "model_id": "584be6eeb32c4df3978722cd89df16c2",
       "version_major": 2,
       "version_minor": 0
      },
      "text/plain": [
       "sampling loop time step:   0%|          | 0/1000 [00:00<?, ?it/s]"
      ]
     },
     "metadata": {},
     "output_type": "display_data"
    },
    {
     "data": {
      "application/vnd.jupyter.widget-view+json": {
       "model_id": "4b072a8af2a3470b9f340c7505504659",
       "version_major": 2,
       "version_minor": 0
      },
      "text/plain": [
       "sampling loop time step:   0%|          | 0/1000 [00:00<?, ?it/s]"
      ]
     },
     "metadata": {},
     "output_type": "display_data"
    },
    {
     "data": {
      "application/vnd.jupyter.widget-view+json": {
       "model_id": "daa68cb14acd40c2b54a4c1e37a9aca8",
       "version_major": 2,
       "version_minor": 0
      },
      "text/plain": [
       "sampling loop time step:   0%|          | 0/64 [00:00<?, ?it/s]"
      ]
     },
     "metadata": {},
     "output_type": "display_data"
    },
    {
     "name": "stdout",
     "output_type": "stream",
     "text": [
      "@@@ inside my_sample\n"
     ]
    },
    {
     "data": {
      "application/vnd.jupyter.widget-view+json": {
       "model_id": "d64fc572b7864994b5c05aa77dde3f23",
       "version_major": 2,
       "version_minor": 0
      },
      "text/plain": [
       "0it [00:00, ?it/s]"
      ]
     },
     "metadata": {},
     "output_type": "display_data"
    },
    {
     "data": {
      "application/vnd.jupyter.widget-view+json": {
       "model_id": "010194f3641a450da6c07af04d3be889",
       "version_major": 2,
       "version_minor": 0
      },
      "text/plain": [
       "sampling loop time step:   0%|          | 0/1000 [00:00<?, ?it/s]"
      ]
     },
     "metadata": {},
     "output_type": "display_data"
    },
    {
     "data": {
      "application/vnd.jupyter.widget-view+json": {
       "model_id": "ba80fd0f73d84802a206911b4d429dcf",
       "version_major": 2,
       "version_minor": 0
      },
      "text/plain": [
       "sampling loop time step:   0%|          | 0/1000 [00:00<?, ?it/s]"
      ]
     },
     "metadata": {},
     "output_type": "display_data"
    },
    {
     "name": "stdout",
     "output_type": "stream",
     "text": [
      "image = tie.jpg\n",
      "19.42002296447754\n",
      "\n",
      "---------------------------\n",
      "\n"
     ]
    }
   ],
   "source": [
    "dataset = CocoDataset(\n",
    "    im_dir=\"images/\",\n",
    "    caption_dir=\"captions/\"\n",
    ")\n",
    "psnrs = []\n",
    "with torch.no_grad():\n",
    "    for source_image_i in range(len(dataset)):\n",
    "        (source_image_name, source_image, source_captions) = dataset[source_image_i]\n",
    "        max_psnr = 0\n",
    "        for text_str_i, text_str in enumerate(source_captions):\n",
    "            source_image_small_64 = F.interpolate(source_image.unsqueeze(0), size=(64, 64))\n",
    "            # normalize\n",
    "\n",
    "            source_image_small_64 = source_image_small_64.cuda()\n",
    "\n",
    "            res = inference.run(\n",
    "                text=text_str,\n",
    "                source_image_small_64 = source_image_small_64,\n",
    "            )\n",
    "            max_psnr = max(max_psnr, (psnr(ToTensor()(res), source_image).item()))\n",
    "        print(f\"image = {source_image_name}\")\n",
    "        print(max_psnr)\n",
    "        print(\"\\n---------------------------\\n\")\n",
    "        psnrs.append(max_psnr)"
   ]
  },
  {
   "cell_type": "code",
   "execution_count": 17,
   "id": "4e285305",
   "metadata": {},
   "outputs": [
    {
     "name": "stdout",
     "output_type": "stream",
     "text": [
      "22.070822525024415\n"
     ]
    }
   ],
   "source": [
    "import numpy as np\n",
    "\n",
    "print(np.mean(psnrs))"
   ]
  },
  {
   "cell_type": "code",
   "execution_count": null,
   "id": "d2e8dfdd",
   "metadata": {},
   "outputs": [],
   "source": []
  }
 ],
 "metadata": {
  "kernelspec": {
   "display_name": "Python 3 (ipykernel)",
   "language": "python",
   "name": "python3"
  },
  "language_info": {
   "codemirror_mode": {
    "name": "ipython",
    "version": 3
   },
   "file_extension": ".py",
   "mimetype": "text/x-python",
   "name": "python",
   "nbconvert_exporter": "python",
   "pygments_lexer": "ipython3",
   "version": "3.10.13"
  }
 },
 "nbformat": 4,
 "nbformat_minor": 5
}
